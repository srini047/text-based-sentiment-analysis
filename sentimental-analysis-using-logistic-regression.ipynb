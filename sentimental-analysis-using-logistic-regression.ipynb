{
 "cells": [
  {
   "cell_type": "markdown",
   "source": "# Text Based Sentiment Analysis",
   "metadata": {
    "cell_id": "2dff2bb2-c105-4463-87ff-15c23c839a39",
    "deepnote_cell_type": "markdown",
    "deepnote_cell_height": 82
   }
  },
  {
   "cell_type": "markdown",
   "source": "# IMPORTING NECESSARY MODULES",
   "metadata": {
    "cell_id": "00001-827032ec-c28b-4d9f-8eee-d6192aa2ae96",
    "deepnote_cell_type": "markdown",
    "deepnote_cell_height": 82
   }
  },
  {
   "cell_type": "code",
   "metadata": {
    "_cell_guid": "b1076dfc-b9ad-4769-8c92-a6c4dae69d19",
    "_uuid": "8f2839f25d086af736a60e9eeb907d3b93b6e0e5",
    "execution": {
     "iopub.execute_input": "2021-03-13T16:27:39.217519Z",
     "iopub.status.busy": "2021-03-13T16:27:39.216547Z",
     "iopub.status.idle": "2021-03-13T16:27:39.234404Z",
     "shell.execute_reply": "2021-03-13T16:27:39.235238Z"
    },
    "papermill": {
     "duration": 0.035859,
     "end_time": "2021-03-13T16:27:39.235853",
     "exception": false,
     "start_time": "2021-03-13T16:27:39.199994",
     "status": "completed"
    },
    "tags": [],
    "cell_id": "00002-36bec11c-eb7b-4df2-90ee-b4217b8e7621",
    "deepnote_to_be_reexecuted": false,
    "source_hash": "ab749f7b",
    "execution_start": 1659103988456,
    "execution_millis": 1816,
    "deepnote_cell_type": "code",
    "deepnote_cell_height": 166
   },
   "source": "import numpy as np # For linear algebra\nimport pandas as pd # Data processing, CSV file I/O (e.g. pd.read_csv)\nimport matplotlib.pyplot as plt  # For Visualisation\n%matplotlib inline\nimport seaborn as sns  # For Visualisation\nfrom bs4 import BeautifulSoup  # For Text Parsing",
   "execution_count": 1,
   "outputs": []
  },
  {
   "cell_type": "markdown",
   "source": "# IMPORTING DATASET",
   "metadata": {
    "cell_id": "00003-c84485ea-471f-4bbc-a9ac-a68e88d210ac",
    "deepnote_cell_type": "markdown",
    "deepnote_cell_height": 82
   }
  },
  {
   "cell_type": "code",
   "source": "data = pd.read_csv('/work/Reviews.csv')\n# data",
   "metadata": {
    "execution": {
     "iopub.execute_input": "2021-03-13T16:27:39.271093Z",
     "iopub.status.busy": "2021-03-13T16:27:39.270285Z",
     "iopub.status.idle": "2021-03-13T16:27:47.294167Z",
     "shell.execute_reply": "2021-03-13T16:27:47.293549Z"
    },
    "papermill": {
     "duration": 8.043911,
     "end_time": "2021-03-13T16:27:47.294319",
     "exception": false,
     "start_time": "2021-03-13T16:27:39.250408",
     "status": "completed"
    },
    "scrolled": true,
    "tags": [],
    "cell_id": "00004-e948c7f9-0985-467e-9905-6933a6337c74",
    "deepnote_to_be_reexecuted": false,
    "source_hash": "d3a41fa3",
    "execution_start": 1659103990284,
    "execution_millis": 4735,
    "deepnote_cell_type": "code",
    "deepnote_cell_height": 94
   },
   "execution_count": 2,
   "outputs": []
  },
  {
   "cell_type": "markdown",
   "source": "# DATA PREPROCESSING & VISUALISATION",
   "metadata": {
    "cell_id": "00005-579dd9fe-55a8-416f-ae98-24ad73508851",
    "deepnote_cell_type": "markdown",
    "deepnote_cell_height": 82
   }
  },
  {
   "cell_type": "code",
   "metadata": {
    "execution": {
     "iopub.execute_input": "2021-03-13T16:27:47.637700Z",
     "iopub.status.busy": "2021-03-13T16:27:47.324855Z",
     "iopub.status.idle": "2021-03-13T16:27:47.652536Z",
     "shell.execute_reply": "2021-03-13T16:27:47.651955Z"
    },
    "papermill": {
     "duration": 0.34554,
     "end_time": "2021-03-13T16:27:47.652678",
     "exception": false,
     "start_time": "2021-03-13T16:27:47.307138",
     "status": "completed"
    },
    "tags": [],
    "cell_id": "00006-07c02291-9a86-418b-aee1-1c31b5598dd3",
    "deepnote_to_be_reexecuted": false,
    "source_hash": "f6229a6b",
    "execution_start": 1659103995024,
    "execution_millis": 6,
    "deepnote_cell_type": "code",
    "deepnote_cell_height": 76
   },
   "source": "#data.isnull().sum()",
   "execution_count": 3,
   "outputs": []
  },
  {
   "cell_type": "code",
   "metadata": {
    "execution": {
     "iopub.execute_input": "2021-03-13T16:27:48.002053Z",
     "iopub.status.busy": "2021-03-13T16:27:47.684503Z",
     "iopub.status.idle": "2021-03-13T16:27:48.435326Z",
     "shell.execute_reply": "2021-03-13T16:27:48.434615Z"
    },
    "papermill": {
     "duration": 0.769449,
     "end_time": "2021-03-13T16:27:48.435483",
     "exception": false,
     "start_time": "2021-03-13T16:27:47.666034",
     "status": "completed"
    },
    "tags": [],
    "cell_id": "00007-1bf8209e-69dd-4ad1-8d85-fb387e28fac8",
    "deepnote_to_be_reexecuted": false,
    "source_hash": "9b23c03a",
    "execution_start": 1659103995037,
    "execution_millis": 313,
    "deepnote_cell_type": "code",
    "deepnote_cell_height": 94
   },
   "source": "data=data.dropna()\n#data.isnull().sum()",
   "execution_count": 4,
   "outputs": []
  },
  {
   "cell_type": "code",
   "metadata": {
    "scrolled": true,
    "cell_id": "00008-30eca726-9c34-469b-a519-5c072eadebf0",
    "deepnote_to_be_reexecuted": false,
    "source_hash": "9522be0a",
    "execution_start": 1659103995365,
    "deepnote_cell_type": "code",
    "deepnote_cell_height": 76
   },
   "source": "#data.shape",
   "execution_count": 5,
   "outputs": []
  },
  {
   "cell_type": "code",
   "metadata": {
    "cell_id": "00009-c57198aa-30d6-40d9-b5d1-40a6d3447418",
    "deepnote_to_be_reexecuted": false,
    "source_hash": "afdc23e5",
    "execution_start": 1659103995375,
    "deepnote_cell_type": "code",
    "deepnote_cell_height": 94
   },
   "source": "score_unique = data['Score'].unique()\n#print(score_unique)",
   "execution_count": 6,
   "outputs": []
  },
  {
   "cell_type": "code",
   "metadata": {
    "execution": {
     "iopub.execute_input": "2021-03-13T16:27:48.506192Z",
     "iopub.status.busy": "2021-03-13T16:27:48.501015Z",
     "iopub.status.idle": "2021-03-13T16:27:48.704122Z",
     "shell.execute_reply": "2021-03-13T16:27:48.703473Z"
    },
    "papermill": {
     "duration": 0.253989,
     "end_time": "2021-03-13T16:27:48.704263",
     "exception": false,
     "start_time": "2021-03-13T16:27:48.450274",
     "status": "completed"
    },
    "tags": [],
    "cell_id": "00010-5be83869-b6d2-4967-8ce3-a2093ad0e2d6",
    "deepnote_to_be_reexecuted": false,
    "source_hash": "62ed0d93",
    "execution_start": 1659103995386,
    "execution_millis": 185,
    "deepnote_cell_type": "code",
    "deepnote_cell_height": 256
   },
   "source": "#   0-> NEGATIVE REVIEW\n#   1-> NEUTRAL REVIEW\n#   2-> POSTIVE REVIEW\na=[]\nfor i in data['Score']:\n    if i <3:                              \n        a.append(0)\n    if i==3:\n        a.append(1)\n    if i>3:\n        a.append(2)",
   "execution_count": 7,
   "outputs": []
  },
  {
   "cell_type": "code",
   "metadata": {
    "cell_id": "00011-b029e4bd-dbf4-4779-987d-4f6aa0e722e2",
    "deepnote_to_be_reexecuted": false,
    "source_hash": "1070d670",
    "execution_start": 1659103995626,
    "execution_millis": 59,
    "deepnote_cell_type": "code",
    "deepnote_cell_height": 344.75
   },
   "source": "r_0, r_1, r_2 = 0, 0, 0\nfor i in a:\n    if i == 0:\n        r_0 += 1\n    elif i == 1:\n        r_1 += 1\n    else:\n        r_2 += 1\n\nprint('Negative Reviews:',r_0)\nprint('Neutral Reviews:',r_1)\nprint('Positive Reviews:',r_2)",
   "execution_count": 8,
   "outputs": [
    {
     "name": "stdout",
     "text": "Negative Reviews: 82007\nNeutral Reviews: 42638\nPositive Reviews: 443766\n",
     "output_type": "stream"
    }
   ]
  },
  {
   "cell_type": "code",
   "metadata": {
    "execution": {
     "iopub.execute_input": "2021-03-13T16:27:48.738843Z",
     "iopub.status.busy": "2021-03-13T16:27:48.738209Z",
     "iopub.status.idle": "2021-03-13T16:27:52.191203Z",
     "shell.execute_reply": "2021-03-13T16:27:52.190555Z"
    },
    "papermill": {
     "duration": 3.472218,
     "end_time": "2021-03-13T16:27:52.191341",
     "exception": false,
     "start_time": "2021-03-13T16:27:48.719123",
     "status": "completed"
    },
    "tags": [],
    "cell_id": "00012-d10c9eb6-cf27-43c4-a10e-10633d6ae3f8",
    "deepnote_to_be_reexecuted": false,
    "source_hash": "511bbaad",
    "execution_start": 1659103995694,
    "execution_millis": 2221,
    "deepnote_cell_type": "code",
    "deepnote_cell_height": 532.203125,
    "deepnote_output_heights": [
     null,
     280
    ]
   },
   "source": "sns.countplot(a)\nplt.xlabel('Reviews', color = 'red')\nplt.ylabel('Count', color = 'red')\nplt.xticks([0,1,2],['Negative','Neutral','Positive'])\nplt.title('COUNT PLOT', color = 'r')\nplt.show()",
   "execution_count": 9,
   "outputs": [
    {
     "name": "stderr",
     "text": "/shared-libs/python3.9/py/lib/python3.9/site-packages/seaborn/_decorators.py:36: FutureWarning: Pass the following variable as a keyword arg: x. From version 0.12, the only valid positional argument will be `data`, and passing other arguments without an explicit keyword will result in an error or misinterpretation.\n  warnings.warn(\n",
     "output_type": "stream"
    },
    {
     "data": {
      "text/plain": "<Figure size 432x288 with 1 Axes>",
      "image/png": "[encoded data removed]"
     },
     "metadata": {
      "needs_background": "light",
      "image/png": {
       "width": 407,
       "height": 278
      }
     },
     "output_type": "display_data"
    }
   ]
  },
  {
   "cell_type": "code",
   "metadata": {
    "execution": {
     "iopub.execute_input": "2021-03-13T16:27:52.228983Z",
     "iopub.status.busy": "2021-03-13T16:27:52.228227Z",
     "iopub.status.idle": "2021-03-13T16:27:52.525964Z",
     "shell.execute_reply": "2021-03-13T16:27:52.525241Z"
    },
    "papermill": {
     "duration": 0.318919,
     "end_time": "2021-03-13T16:27:52.526112",
     "exception": false,
     "start_time": "2021-03-13T16:27:52.207193",
     "status": "completed"
    },
    "tags": [],
    "cell_id": "00013-8b707209-e417-4220-983b-e9e292d3208c",
    "deepnote_to_be_reexecuted": false,
    "source_hash": "e38718ba",
    "execution_start": 1659103997524,
    "execution_millis": 204,
    "deepnote_cell_type": "code",
    "deepnote_cell_height": 130
   },
   "source": "data['sentiment']=a\n#data\nfinal_dataset = data[['Text','sentiment']]\n#final_dataset",
   "execution_count": 10,
   "outputs": []
  },
  {
   "cell_type": "code",
   "metadata": {
    "execution": {
     "iopub.execute_input": "2021-03-13T16:27:52.564895Z",
     "iopub.status.busy": "2021-03-13T16:27:52.564247Z",
     "iopub.status.idle": "2021-03-13T16:27:52.602794Z",
     "shell.execute_reply": "2021-03-13T16:27:52.601774Z"
    },
    "papermill": {
     "duration": 0.06016,
     "end_time": "2021-03-13T16:27:52.602941",
     "exception": false,
     "start_time": "2021-03-13T16:27:52.542781",
     "status": "completed"
    },
    "tags": [],
    "cell_id": "00014-318fa447-e810-4747-b6d3-28683b6eaea3",
    "deepnote_to_be_reexecuted": false,
    "source_hash": "e2ed688e",
    "execution_start": 1659103997733,
    "execution_millis": 52,
    "deepnote_cell_type": "code",
    "deepnote_cell_height": 112
   },
   "source": "data_p=final_dataset[data['sentiment']==2]\ndata_n=final_dataset[data['sentiment']==0]\n#len(data_p), len(data_n)",
   "execution_count": 11,
   "outputs": []
  },
  {
   "cell_type": "code",
   "metadata": {
    "execution": {
     "iopub.execute_input": "2021-03-13T16:27:52.645015Z",
     "iopub.status.busy": "2021-03-13T16:27:52.644154Z",
     "iopub.status.idle": "2021-03-13T16:27:52.653374Z",
     "shell.execute_reply": "2021-03-13T16:27:52.652758Z"
    },
    "papermill": {
     "duration": 0.034092,
     "end_time": "2021-03-13T16:27:52.653525",
     "exception": false,
     "start_time": "2021-03-13T16:27:52.619433",
     "status": "completed"
    },
    "tags": [],
    "cell_id": "00015-f65a35b3-6bf1-469f-85ba-336bf39429ff",
    "deepnote_to_be_reexecuted": false,
    "source_hash": "b292bf63",
    "execution_start": 1659103997794,
    "execution_millis": 7,
    "deepnote_cell_type": "code",
    "deepnote_cell_height": 112
   },
   "source": "datap = data_p.iloc[np.random.randint(1,443766,5000), :]\ndatan = data_n.iloc[np.random.randint(1, 82007,5000), :]\n#len(datan), len(datap)",
   "execution_count": 12,
   "outputs": []
  },
  {
   "cell_type": "code",
   "metadata": {
    "execution": {
     "iopub.execute_input": "2021-03-13T16:27:52.718098Z",
     "iopub.status.busy": "2021-03-13T16:27:52.696002Z",
     "iopub.status.idle": "2021-03-13T16:27:52.722428Z",
     "shell.execute_reply": "2021-03-13T16:27:52.723006Z"
    },
    "papermill": {
     "duration": 0.052498,
     "end_time": "2021-03-13T16:27:52.723175",
     "exception": false,
     "start_time": "2021-03-13T16:27:52.670677",
     "status": "completed"
    },
    "tags": [],
    "cell_id": "00016-f4683b7e-8bbe-40ad-bb6b-0a8bfcc0a5ea",
    "deepnote_to_be_reexecuted": false,
    "source_hash": "e11d18a5",
    "execution_start": 1659103997858,
    "execution_millis": 81,
    "deepnote_cell_type": "code",
    "deepnote_cell_height": 131.171875,
    "deepnote_output_heights": [
     21.1875
    ]
   },
   "source": "data = pd.concat([datap,datan])\nlen(data)",
   "execution_count": 13,
   "outputs": [
    {
     "output_type": "execute_result",
     "execution_count": 13,
     "data": {
      "text/plain": "10000"
     },
     "metadata": {}
    }
   ]
  },
  {
   "cell_type": "code",
   "metadata": {
    "execution": {
     "iopub.execute_input": "2021-03-13T16:27:52.761247Z",
     "iopub.status.busy": "2021-03-13T16:27:52.760643Z",
     "iopub.status.idle": "2021-03-13T16:27:52.773854Z",
     "shell.execute_reply": "2021-03-13T16:27:52.774377Z"
    },
    "papermill": {
     "duration": 0.034064,
     "end_time": "2021-03-13T16:27:52.774563",
     "exception": false,
     "start_time": "2021-03-13T16:27:52.740499",
     "status": "completed"
    },
    "tags": [],
    "cell_id": "00017-47500b97-0f1d-41b6-a8b4-eb8a9bd1483c",
    "deepnote_to_be_reexecuted": false,
    "source_hash": "4c2acd76",
    "execution_start": 1659103997914,
    "execution_millis": 0,
    "deepnote_cell_type": "code",
    "deepnote_cell_height": 184
   },
   "source": "c=[]\nfor i in data['sentiment']:\n    if i==0:\n        c.append(0)\n    if i==2:\n        c.append(1)\ndata['sentiment']=c",
   "execution_count": 14,
   "outputs": []
  },
  {
   "cell_type": "code",
   "metadata": {
    "execution": {
     "iopub.execute_input": "2021-03-13T16:27:52.813343Z",
     "iopub.status.busy": "2021-03-13T16:27:52.812696Z",
     "iopub.status.idle": "2021-03-13T16:27:52.931829Z",
     "shell.execute_reply": "2021-03-13T16:27:52.932370Z"
    },
    "papermill": {
     "duration": 0.140594,
     "end_time": "2021-03-13T16:27:52.932569",
     "exception": false,
     "start_time": "2021-03-13T16:27:52.791975",
     "status": "completed"
    },
    "scrolled": true,
    "tags": [],
    "cell_id": "00018-0f4c1ae1-f705-48e2-8375-e571ef442fb5",
    "deepnote_to_be_reexecuted": false,
    "source_hash": "6bcfc4e1",
    "execution_start": 1659103997915,
    "execution_millis": 243,
    "deepnote_cell_type": "code",
    "deepnote_cell_height": 444.203125,
    "deepnote_output_heights": [
     null,
     264
    ]
   },
   "source": "sns.countplot(data['sentiment'])\nplt.show()",
   "execution_count": 15,
   "outputs": [
    {
     "name": "stderr",
     "text": "/shared-libs/python3.9/py/lib/python3.9/site-packages/seaborn/_decorators.py:36: FutureWarning: Pass the following variable as a keyword arg: x. From version 0.12, the only valid positional argument will be `data`, and passing other arguments without an explicit keyword will result in an error or misinterpretation.\n  warnings.warn(\n",
     "output_type": "stream"
    },
    {
     "data": {
      "text/plain": "<Figure size 432x288 with 1 Axes>",
      "image/png": "[encoded data removed]"
     },
     "metadata": {
      "needs_background": "light",
      "image/png": {
       "width": 395,
       "height": 262
      }
     },
     "output_type": "display_data"
    }
   ]
  },
  {
   "cell_type": "code",
   "metadata": {
    "execution": {
     "iopub.execute_input": "2021-03-13T16:27:52.976139Z",
     "iopub.status.busy": "2021-03-13T16:27:52.975221Z",
     "iopub.status.idle": "2021-03-13T16:28:06.765174Z",
     "shell.execute_reply": "2021-03-13T16:28:06.764583Z"
    },
    "papermill": {
     "duration": 13.812836,
     "end_time": "2021-03-13T16:28:06.765326",
     "exception": false,
     "start_time": "2021-03-13T16:27:52.952490",
     "status": "completed"
    },
    "tags": [],
    "cell_id": "00019-1292d0e3-72fb-423c-ae83-b63f00887660",
    "deepnote_to_be_reexecuted": false,
    "source_hash": "c78907ea",
    "execution_start": 1659103998156,
    "execution_millis": 1260,
    "deepnote_cell_type": "code",
    "deepnote_cell_height": 257.203125
   },
   "source": "def strip_html(text):\n    soup = BeautifulSoup(text, \"html.parser\")\n    return soup.get_text()\ndata['review'] = data['Text'].apply(strip_html)\n\ndata=data.drop('Text',axis=1)\n\n#data.head()",
   "execution_count": 16,
   "outputs": [
    {
     "name": "stderr",
     "text": "/root/venv/lib/python3.9/site-packages/bs4/__init__.py:435: MarkupResemblesLocatorWarning: The input looks more like a filename than markup. You may want to open this file and pass the filehandle into Beautiful Soup.\n  warnings.warn(\n",
     "output_type": "stream"
    }
   ]
  },
  {
   "cell_type": "markdown",
   "source": "# MODEL BUILDING",
   "metadata": {
    "cell_id": "00020-004e55c0-2eb0-41e9-b7f2-84f9c24ca9bf",
    "deepnote_cell_type": "markdown",
    "deepnote_cell_height": 82
   }
  },
  {
   "cell_type": "code",
   "metadata": {
    "execution": {
     "iopub.execute_input": "2021-03-13T16:28:06.822582Z",
     "iopub.status.busy": "2021-03-13T16:28:06.821370Z",
     "iopub.status.idle": "2021-03-13T16:28:08.280602Z",
     "shell.execute_reply": "2021-03-13T16:28:08.279914Z"
    },
    "papermill": {
     "duration": 1.490321,
     "end_time": "2021-03-13T16:28:08.280749",
     "exception": false,
     "start_time": "2021-03-13T16:28:06.790428",
     "status": "completed"
    },
    "tags": [],
    "cell_id": "00021-8285f233-a829-43a8-a5fa-873d63a8f0ca",
    "deepnote_to_be_reexecuted": false,
    "source_hash": "d15a1133",
    "execution_start": 1659103999423,
    "execution_millis": 1560,
    "deepnote_cell_type": "code",
    "deepnote_cell_height": 184
   },
   "source": "import nltk  #Natural Language Processing Toolkit\ndef punc_clean(text):\n    import string as st\n    a=[w for w in text if w not in st.punctuation]\n    return ''.join(a)\ndata['review'] = data['review'].apply(punc_clean)\n#data.head(2)",
   "execution_count": 17,
   "outputs": []
  },
  {
   "cell_type": "code",
   "metadata": {
    "execution": {
     "iopub.execute_input": "2021-03-13T16:28:08.340787Z",
     "iopub.status.busy": "2021-03-13T16:28:08.340120Z",
     "iopub.status.idle": "2021-03-13T16:28:18.825059Z",
     "shell.execute_reply": "2021-03-13T16:28:18.824303Z"
    },
    "papermill": {
     "duration": 10.518179,
     "end_time": "2021-03-13T16:28:18.825205",
     "exception": false,
     "start_time": "2021-03-13T16:28:08.307026",
     "status": "completed"
    },
    "tags": [],
    "cell_id": "00022-a4cfd80d-eba1-4639-b284-da7436a9fff6",
    "deepnote_to_be_reexecuted": false,
    "source_hash": "33b5447c",
    "execution_start": 1659104000988,
    "execution_millis": 9,
    "deepnote_cell_type": "code",
    "deepnote_cell_height": 166
   },
   "source": "def remove_stopword(text):\n    stopword=nltk.corpus.stopwords.words('english')\n    stopword.remove('not')\n    a=[w for w in nltk.word_tokenize(text) if w not in stopword]\n    return ' '.join(a)\n#data['review'] = data['review'].apply(remove_stopword)",
   "execution_count": 18,
   "outputs": []
  },
  {
   "cell_type": "code",
   "metadata": {
    "execution": {
     "iopub.execute_input": "2021-03-13T16:28:18.921507Z",
     "iopub.status.busy": "2021-03-13T16:28:18.916495Z",
     "iopub.status.idle": "2021-03-13T16:28:21.553576Z",
     "shell.execute_reply": "2021-03-13T16:28:21.553032Z"
    },
    "papermill": {
     "duration": 2.703145,
     "end_time": "2021-03-13T16:28:21.553726",
     "exception": false,
     "start_time": "2021-03-13T16:28:18.850581",
     "status": "completed"
    },
    "tags": [],
    "cell_id": "00023-a45fecc1-f14b-4184-af87-5c2dfd381441",
    "deepnote_to_be_reexecuted": false,
    "source_hash": "c820e3db",
    "execution_start": 1659104001015,
    "execution_millis": 4515,
    "deepnote_cell_type": "code",
    "deepnote_cell_height": 166
   },
   "source": "from sklearn.feature_extraction.text import TfidfVectorizer\n\nvectr = TfidfVectorizer(ngram_range=(1,2),min_df=1)\nvectr.fit(data['review'])\n\nvect_X = vectr.transform(data['review'])",
   "execution_count": 19,
   "outputs": []
  },
  {
   "cell_type": "code",
   "metadata": {
    "execution": {
     "iopub.execute_input": "2021-03-13T16:28:21.612076Z",
     "iopub.status.busy": "2021-03-13T16:28:21.611368Z",
     "iopub.status.idle": "2021-03-13T16:28:22.028403Z",
     "shell.execute_reply": "2021-03-13T16:28:22.029297Z"
    },
    "papermill": {
     "duration": 0.44834,
     "end_time": "2021-03-13T16:28:22.029590",
     "exception": false,
     "start_time": "2021-03-13T16:28:21.581250",
     "status": "completed"
    },
    "scrolled": true,
    "tags": [],
    "cell_id": "00024-7b28b80c-8ebb-4896-92cb-45b454b0ee7f",
    "deepnote_to_be_reexecuted": false,
    "source_hash": "a7924ecc",
    "execution_start": 1659104005536,
    "execution_millis": 3780,
    "deepnote_cell_type": "code",
    "deepnote_cell_height": 166
   },
   "source": "from sklearn.linear_model import LogisticRegression\n\nmodel = LogisticRegression()\n\nclf=model.fit(vect_X,data['sentiment'])\n#clf.score(vect_X,data['sentiment'])*100",
   "execution_count": 20,
   "outputs": []
  },
  {
   "cell_type": "markdown",
   "source": "# PREDICTION",
   "metadata": {
    "cell_id": "00025-cf07c26c-c0c3-45fd-aca7-d4b00cb43de2",
    "deepnote_cell_type": "markdown",
    "deepnote_cell_height": 82
   }
  },
  {
   "cell_type": "code",
   "metadata": {
    "execution": {
     "iopub.execute_input": "2021-03-13T16:28:22.140180Z",
     "iopub.status.busy": "2021-03-13T16:28:22.139557Z",
     "iopub.status.idle": "2021-03-13T16:28:22.142422Z",
     "shell.execute_reply": "2021-03-13T16:28:22.142902Z"
    },
    "papermill": {
     "duration": 0.062393,
     "end_time": "2021-03-13T16:28:22.143073",
     "exception": false,
     "start_time": "2021-03-13T16:28:22.080680",
     "status": "completed"
    },
    "tags": [],
    "cell_id": "00026-5932dffd-b816-4c6a-9533-c230477462f2",
    "deepnote_to_be_reexecuted": false,
    "source_hash": "77a37951",
    "execution_start": 1659104009323,
    "execution_millis": 32,
    "deepnote_cell_type": "code",
    "deepnote_cell_height": 172.171875,
    "deepnote_output_heights": [
     21.1875
    ]
   },
   "source": "clf.predict(vectr.transform(['''Nice look and build quality with moderately fast everything such as refresh rate, display quality, sound, processing, gaming experience and many more ..\nI didn't find any lagging or heating issue..And battery health I won't say great but I'll take that\n\nOnly cons I can say about it is camera.. sharpening picture a little much at day light and low light photo you have to compromise.''']))",
   "execution_count": 21,
   "outputs": [
    {
     "output_type": "execute_result",
     "execution_count": 21,
     "data": {
      "text/plain": "array([1])"
     },
     "metadata": {}
    }
   ]
  },
  {
   "cell_type": "code",
   "metadata": {
    "execution": {
     "iopub.execute_input": "2021-03-13T16:28:22.201709Z",
     "iopub.status.busy": "2021-03-13T16:28:22.201077Z",
     "iopub.status.idle": "2021-03-13T16:28:22.207320Z",
     "shell.execute_reply": "2021-03-13T16:28:22.208108Z"
    },
    "papermill": {
     "duration": 0.036995,
     "end_time": "2021-03-13T16:28:22.208319",
     "exception": false,
     "start_time": "2021-03-13T16:28:22.171324",
     "status": "completed"
    },
    "tags": [],
    "cell_id": "00027-13154074-96ac-47af-9326-0c13bad83461",
    "deepnote_to_be_reexecuted": false,
    "source_hash": "97f102da",
    "execution_start": 1659104009361,
    "execution_millis": 24,
    "deepnote_cell_type": "code",
    "deepnote_cell_height": 118.171875,
    "deepnote_output_heights": [
     21.1875
    ]
   },
   "source": "clf.predict(vectr.transform(['''Phone has bugs , and screen quality is poor , Avoid realme. Gaming was just over hyped''']))",
   "execution_count": 22,
   "outputs": [
    {
     "output_type": "execute_result",
     "execution_count": 22,
     "data": {
      "text/plain": "array([0])"
     },
     "metadata": {}
    }
   ]
  },
  {
   "cell_type": "code",
   "metadata": {
    "cell_id": "00028-e1a24443-f0ec-4ab3-b013-8b898483c09a",
    "deepnote_to_be_reexecuted": false,
    "source_hash": "59f7cd61",
    "execution_start": 1659104009394,
    "execution_millis": 10,
    "deepnote_cell_type": "code",
    "deepnote_cell_height": 113.171875,
    "deepnote_output_heights": [
     21.1875
    ]
   },
   "source": "clf.predict(vectr.transform(['''No lags found super speed and very good performance nice phone in this budget''']))",
   "execution_count": 23,
   "outputs": [
    {
     "output_type": "execute_result",
     "execution_count": 23,
     "data": {
      "text/plain": "array([1])"
     },
     "metadata": {}
    }
   ]
  },
  {
   "cell_type": "code",
   "metadata": {
    "cell_id": "00029-c4c0d8b6-357b-44ad-bcb8-bbc12ba66815",
    "deepnote_to_be_reexecuted": false,
    "source_hash": "b623e53d",
    "execution_start": 1659104009407,
    "deepnote_cell_type": "code",
    "deepnote_cell_height": 76
   },
   "source": "",
   "execution_count": 23,
   "outputs": []
  },
  {
   "cell_type": "markdown",
   "source": "<a style='text-decoration:none;line-height:16px;display:flex;color:#5B5B62;padding:10px;justify-content:end;' href='https://deepnote.com?utm_source=created-in-deepnote-cell&projectId=4d282b10-3250-4323-8e4d-a3cd11fe8ba3' target=\"_blank\">\n<img alt='Created in deepnote.com' style='display:inline;max-height:16px;margin:0px;margin-right:7.5px;' src='data:image/svg+xml;base64,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' > </img>\nCreated in <span style='font-weight:600;margin-left:4px;'>Deepnote</span></a>",
   "metadata": {
    "tags": [],
    "created_in_deepnote_cell": true,
    "deepnote_cell_type": "markdown"
   }
  }
 ],
 "nbformat": 4,
 "nbformat_minor": 4,
 "metadata": {
  "interpreter": {
   "hash": "130553f4f0d3e23349af9165d910d4262409c6846676bdcb430be96ef900c543"
  },
  "kernelspec": {
   "display_name": "Python 3.8.5 64-bit ('base': conda)",
   "name": "python3"
  },
  "language_info": {
   "codemirror_mode": {
    "name": "ipython",
    "version": 3
   },
   "file_extension": ".py",
   "mimetype": "text/x-python",
   "name": "python",
   "nbconvert_exporter": "python",
   "pygments_lexer": "ipython3",
   "version": "3.9.5"
  },
  "papermill": {
   "default_parameters": {},
   "duration": 50.126058,
   "end_time": "2021-03-13T16:28:23.248091",
   "environment_variables": {},
   "exception": null,
   "input_path": "__notebook__.ipynb",
   "output_path": "__notebook__.ipynb",
   "parameters": {},
   "start_time": "2021-03-13T16:27:33.122033",
   "version": "2.2.2"
  },
  "deepnote_notebook_id": "be60bd45-01a5-426e-91a1-24c892390952",
  "deepnote": {},
  "deepnote_execution_queue": []
 }
}